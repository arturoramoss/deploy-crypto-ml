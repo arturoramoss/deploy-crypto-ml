{
 "cells": [
  {
   "cell_type": "code",
   "execution_count": 1,
   "source": [
    "# Raw Package\r\n",
    "import numpy as np\r\n",
    "import pandas as pd\r\n",
    "\r\n",
    "#Data Source\r\n",
    "import yfinance as yf\r\n",
    "\r\n",
    "#Data viz\r\n",
    "import plotly.graph_objs as go\r\n",
    "\r\n",
    "\r\n",
    "\r\n",
    "# to divide train and test set\r\n",
    "from sklearn.model_selection import train_test_split\r\n",
    "\r\n",
    "# feature scaling\r\n",
    "from sklearn.preprocessing import StandardScaler\r\n",
    "\r\n",
    "# to build the models\r\n",
    "from sklearn.linear_model import LogisticRegression\r\n",
    "\r\n",
    "# to evaluate the models\r\n",
    "from sklearn.metrics import accuracy_score, roc_auc_score,confusion_matrix\r\n",
    "\r\n",
    "# pipeline\r\n",
    "from sklearn.pipeline import Pipeline"
   ],
   "outputs": [],
   "metadata": {}
  },
  {
   "cell_type": "code",
   "execution_count": 2,
   "source": [
    "intervals = {'15m':'60d','1h':'8mo','1d':'12mo'}"
   ],
   "outputs": [],
   "metadata": {}
  },
  {
   "cell_type": "code",
   "execution_count": 3,
   "source": [
    "dfs = []\r\n",
    "for inter in intervals:\r\n",
    "    dfs.append(yf.download(tickers='ETH-USD', period = intervals[inter], interval = inter))"
   ],
   "outputs": [
    {
     "output_type": "stream",
     "name": "stdout",
     "text": [
      "[*********************100%***********************]  1 of 1 completed\n",
      "[*********************100%***********************]  1 of 1 completed\n",
      "[*********************100%***********************]  1 of 1 completed\n"
     ]
    }
   ],
   "metadata": {}
  },
  {
   "cell_type": "code",
   "execution_count": 4,
   "source": [
    "variations = [2,4,6,8]\r\n",
    "\r\n",
    "for df in dfs:\r\n",
    "    for var in variations:\r\n",
    "        df['var_'+str(var)] = df['High']/df.shift(-var)['Open']-1\r\n",
    "        \r\n"
   ],
   "outputs": [],
   "metadata": {}
  },
  {
   "cell_type": "code",
   "execution_count": 5,
   "source": [
    "dfs[1]"
   ],
   "outputs": [
    {
     "output_type": "execute_result",
     "data": {
      "text/html": [
       "<div>\n",
       "<style scoped>\n",
       "    .dataframe tbody tr th:only-of-type {\n",
       "        vertical-align: middle;\n",
       "    }\n",
       "\n",
       "    .dataframe tbody tr th {\n",
       "        vertical-align: top;\n",
       "    }\n",
       "\n",
       "    .dataframe thead th {\n",
       "        text-align: right;\n",
       "    }\n",
       "</style>\n",
       "<table border=\"1\" class=\"dataframe\">\n",
       "  <thead>\n",
       "    <tr style=\"text-align: right;\">\n",
       "      <th></th>\n",
       "      <th>Open</th>\n",
       "      <th>High</th>\n",
       "      <th>Low</th>\n",
       "      <th>Close</th>\n",
       "      <th>Adj Close</th>\n",
       "      <th>Volume</th>\n",
       "      <th>var_2</th>\n",
       "      <th>var_4</th>\n",
       "      <th>var_6</th>\n",
       "      <th>var_8</th>\n",
       "    </tr>\n",
       "  </thead>\n",
       "  <tbody>\n",
       "    <tr>\n",
       "      <th>2021-01-19 07:00:00+00:00</th>\n",
       "      <td>1333.034546</td>\n",
       "      <td>1370.952637</td>\n",
       "      <td>1326.290894</td>\n",
       "      <td>1370.952637</td>\n",
       "      <td>1370.952637</td>\n",
       "      <td>0</td>\n",
       "      <td>-0.002809</td>\n",
       "      <td>-0.008539</td>\n",
       "      <td>-0.012680</td>\n",
       "      <td>-0.026712</td>\n",
       "    </tr>\n",
       "    <tr>\n",
       "      <th>2021-01-19 08:00:00+00:00</th>\n",
       "      <td>1371.241577</td>\n",
       "      <td>1384.956665</td>\n",
       "      <td>1368.498657</td>\n",
       "      <td>1374.707642</td>\n",
       "      <td>1374.707642</td>\n",
       "      <td>1678917632</td>\n",
       "      <td>0.002348</td>\n",
       "      <td>-0.030851</td>\n",
       "      <td>-0.022739</td>\n",
       "      <td>-0.018607</td>\n",
       "    </tr>\n",
       "    <tr>\n",
       "      <th>2021-01-19 09:00:00+00:00</th>\n",
       "      <td>1374.813965</td>\n",
       "      <td>1393.521606</td>\n",
       "      <td>1373.466797</td>\n",
       "      <td>1381.729980</td>\n",
       "      <td>1381.729980</td>\n",
       "      <td>936374272</td>\n",
       "      <td>0.007783</td>\n",
       "      <td>0.003574</td>\n",
       "      <td>-0.010689</td>\n",
       "      <td>-0.021899</td>\n",
       "    </tr>\n",
       "    <tr>\n",
       "      <th>2021-01-19 10:00:00+00:00</th>\n",
       "      <td>1381.712402</td>\n",
       "      <td>1391.768188</td>\n",
       "      <td>1369.256104</td>\n",
       "      <td>1382.569824</td>\n",
       "      <td>1382.569824</td>\n",
       "      <td>806682624</td>\n",
       "      <td>-0.026085</td>\n",
       "      <td>-0.017933</td>\n",
       "      <td>-0.013780</td>\n",
       "      <td>-0.017343</td>\n",
       "    </tr>\n",
       "    <tr>\n",
       "      <th>2021-01-19 11:00:00+00:00</th>\n",
       "      <td>1382.759888</td>\n",
       "      <td>1428.938599</td>\n",
       "      <td>1382.759888</td>\n",
       "      <td>1428.938599</td>\n",
       "      <td>1428.938599</td>\n",
       "      <td>2517630976</td>\n",
       "      <td>0.029080</td>\n",
       "      <td>0.014455</td>\n",
       "      <td>0.002960</td>\n",
       "      <td>0.043603</td>\n",
       "    </tr>\n",
       "    <tr>\n",
       "      <th>...</th>\n",
       "      <td>...</td>\n",
       "      <td>...</td>\n",
       "      <td>...</td>\n",
       "      <td>...</td>\n",
       "      <td>...</td>\n",
       "      <td>...</td>\n",
       "      <td>...</td>\n",
       "      <td>...</td>\n",
       "      <td>...</td>\n",
       "      <td>...</td>\n",
       "    </tr>\n",
       "    <tr>\n",
       "      <th>2021-09-19 04:00:00+01:00</th>\n",
       "      <td>3421.201172</td>\n",
       "      <td>3425.453857</td>\n",
       "      <td>3406.264893</td>\n",
       "      <td>3413.086670</td>\n",
       "      <td>3413.086670</td>\n",
       "      <td>107606016</td>\n",
       "      <td>0.003671</td>\n",
       "      <td>0.000290</td>\n",
       "      <td>NaN</td>\n",
       "      <td>NaN</td>\n",
       "    </tr>\n",
       "    <tr>\n",
       "      <th>2021-09-19 05:00:00+01:00</th>\n",
       "      <td>3411.707764</td>\n",
       "      <td>3432.415283</td>\n",
       "      <td>3401.060547</td>\n",
       "      <td>3409.329834</td>\n",
       "      <td>3409.329834</td>\n",
       "      <td>123011072</td>\n",
       "      <td>0.001838</td>\n",
       "      <td>NaN</td>\n",
       "      <td>NaN</td>\n",
       "      <td>NaN</td>\n",
       "    </tr>\n",
       "    <tr>\n",
       "      <th>2021-09-19 06:00:00+01:00</th>\n",
       "      <td>3412.923340</td>\n",
       "      <td>3427.196533</td>\n",
       "      <td>3408.376221</td>\n",
       "      <td>3424.241211</td>\n",
       "      <td>3424.241211</td>\n",
       "      <td>74695680</td>\n",
       "      <td>0.000799</td>\n",
       "      <td>NaN</td>\n",
       "      <td>NaN</td>\n",
       "      <td>NaN</td>\n",
       "    </tr>\n",
       "    <tr>\n",
       "      <th>2021-09-19 07:00:00+01:00</th>\n",
       "      <td>3426.118408</td>\n",
       "      <td>3429.235840</td>\n",
       "      <td>3415.951172</td>\n",
       "      <td>3423.494873</td>\n",
       "      <td>3423.494873</td>\n",
       "      <td>29252608</td>\n",
       "      <td>NaN</td>\n",
       "      <td>NaN</td>\n",
       "      <td>NaN</td>\n",
       "      <td>NaN</td>\n",
       "    </tr>\n",
       "    <tr>\n",
       "      <th>2021-09-19 07:50:02+01:00</th>\n",
       "      <td>3424.460938</td>\n",
       "      <td>3424.460938</td>\n",
       "      <td>3424.460938</td>\n",
       "      <td>3424.460938</td>\n",
       "      <td>3424.460938</td>\n",
       "      <td>0</td>\n",
       "      <td>NaN</td>\n",
       "      <td>NaN</td>\n",
       "      <td>NaN</td>\n",
       "      <td>NaN</td>\n",
       "    </tr>\n",
       "  </tbody>\n",
       "</table>\n",
       "<p>5825 rows × 10 columns</p>\n",
       "</div>"
      ],
      "text/plain": [
       "                                  Open         High          Low        Close  \\\n",
       "2021-01-19 07:00:00+00:00  1333.034546  1370.952637  1326.290894  1370.952637   \n",
       "2021-01-19 08:00:00+00:00  1371.241577  1384.956665  1368.498657  1374.707642   \n",
       "2021-01-19 09:00:00+00:00  1374.813965  1393.521606  1373.466797  1381.729980   \n",
       "2021-01-19 10:00:00+00:00  1381.712402  1391.768188  1369.256104  1382.569824   \n",
       "2021-01-19 11:00:00+00:00  1382.759888  1428.938599  1382.759888  1428.938599   \n",
       "...                                ...          ...          ...          ...   \n",
       "2021-09-19 04:00:00+01:00  3421.201172  3425.453857  3406.264893  3413.086670   \n",
       "2021-09-19 05:00:00+01:00  3411.707764  3432.415283  3401.060547  3409.329834   \n",
       "2021-09-19 06:00:00+01:00  3412.923340  3427.196533  3408.376221  3424.241211   \n",
       "2021-09-19 07:00:00+01:00  3426.118408  3429.235840  3415.951172  3423.494873   \n",
       "2021-09-19 07:50:02+01:00  3424.460938  3424.460938  3424.460938  3424.460938   \n",
       "\n",
       "                             Adj Close      Volume     var_2     var_4  \\\n",
       "2021-01-19 07:00:00+00:00  1370.952637           0 -0.002809 -0.008539   \n",
       "2021-01-19 08:00:00+00:00  1374.707642  1678917632  0.002348 -0.030851   \n",
       "2021-01-19 09:00:00+00:00  1381.729980   936374272  0.007783  0.003574   \n",
       "2021-01-19 10:00:00+00:00  1382.569824   806682624 -0.026085 -0.017933   \n",
       "2021-01-19 11:00:00+00:00  1428.938599  2517630976  0.029080  0.014455   \n",
       "...                                ...         ...       ...       ...   \n",
       "2021-09-19 04:00:00+01:00  3413.086670   107606016  0.003671  0.000290   \n",
       "2021-09-19 05:00:00+01:00  3409.329834   123011072  0.001838       NaN   \n",
       "2021-09-19 06:00:00+01:00  3424.241211    74695680  0.000799       NaN   \n",
       "2021-09-19 07:00:00+01:00  3423.494873    29252608       NaN       NaN   \n",
       "2021-09-19 07:50:02+01:00  3424.460938           0       NaN       NaN   \n",
       "\n",
       "                              var_6     var_8  \n",
       "2021-01-19 07:00:00+00:00 -0.012680 -0.026712  \n",
       "2021-01-19 08:00:00+00:00 -0.022739 -0.018607  \n",
       "2021-01-19 09:00:00+00:00 -0.010689 -0.021899  \n",
       "2021-01-19 10:00:00+00:00 -0.013780 -0.017343  \n",
       "2021-01-19 11:00:00+00:00  0.002960  0.043603  \n",
       "...                             ...       ...  \n",
       "2021-09-19 04:00:00+01:00       NaN       NaN  \n",
       "2021-09-19 05:00:00+01:00       NaN       NaN  \n",
       "2021-09-19 06:00:00+01:00       NaN       NaN  \n",
       "2021-09-19 07:00:00+01:00       NaN       NaN  \n",
       "2021-09-19 07:50:02+01:00       NaN       NaN  \n",
       "\n",
       "[5825 rows x 10 columns]"
      ]
     },
     "metadata": {},
     "execution_count": 5
    }
   ],
   "metadata": {}
  },
  {
   "cell_type": "code",
   "execution_count": 6,
   "source": [
    "for df in dfs:\r\n",
    "    df[['var_'+str(var) for var in variations]].hist(bins = 60,figsize = (14,8))"
   ],
   "outputs": [
    {
     "output_type": "display_data",
     "data": {
      "image/png": "[encoded data removed]",
      "text/plain": [
       "<Figure size 1008x576 with 4 Axes>"
      ]
     },
     "metadata": {
      "needs_background": "light"
     }
    },
    {
     "output_type": "display_data",
     "data": {
      "image/png": "[encoded data removed]",
      "text/plain": [
       "<Figure size 1008x576 with 4 Axes>"
      ]
     },
     "metadata": {
      "needs_background": "light"
     }
    },
    {
     "output_type": "display_data",
     "data": {
      "image/png": "[encoded data removed]",
      "text/plain": [
       "<Figure size 1008x576 with 4 Axes>"
      ]
     },
     "metadata": {
      "needs_background": "light"
     }
    }
   ],
   "metadata": {
    "scrolled": false
   }
  },
  {
   "cell_type": "code",
   "execution_count": 10,
   "source": [
    "data = dfs[1]\r\n",
    "# data['target'] = data['var_6'] >= 0.015\r\n",
    "data['isHigher'] = (data['var_6'] >= 0.015) | (data['var_4'] >= 0.015)\r\n",
    "data['isHigher'].mean()"
   ],
   "outputs": [
    {
     "output_type": "execute_result",
     "data": {
      "text/plain": [
       "0.36858369098712446"
      ]
     },
     "metadata": {},
     "execution_count": 10
    }
   ],
   "metadata": {}
  },
  {
   "cell_type": "code",
   "execution_count": 11,
   "source": [
    "data.tail()"
   ],
   "outputs": [
    {
     "output_type": "execute_result",
     "data": {
      "text/html": [
       "<div>\n",
       "<style scoped>\n",
       "    .dataframe tbody tr th:only-of-type {\n",
       "        vertical-align: middle;\n",
       "    }\n",
       "\n",
       "    .dataframe tbody tr th {\n",
       "        vertical-align: top;\n",
       "    }\n",
       "\n",
       "    .dataframe thead th {\n",
       "        text-align: right;\n",
       "    }\n",
       "</style>\n",
       "<table border=\"1\" class=\"dataframe\">\n",
       "  <thead>\n",
       "    <tr style=\"text-align: right;\">\n",
       "      <th></th>\n",
       "      <th>Open</th>\n",
       "      <th>High</th>\n",
       "      <th>Low</th>\n",
       "      <th>Close</th>\n",
       "      <th>Adj Close</th>\n",
       "      <th>Volume</th>\n",
       "      <th>var_2</th>\n",
       "      <th>var_4</th>\n",
       "      <th>var_6</th>\n",
       "      <th>var_8</th>\n",
       "      <th>target</th>\n",
       "      <th>isHigher</th>\n",
       "    </tr>\n",
       "  </thead>\n",
       "  <tbody>\n",
       "    <tr>\n",
       "      <th>2021-09-19 04:00:00+01:00</th>\n",
       "      <td>3421.201172</td>\n",
       "      <td>3425.453857</td>\n",
       "      <td>3406.264893</td>\n",
       "      <td>3413.086670</td>\n",
       "      <td>3413.086670</td>\n",
       "      <td>107606016</td>\n",
       "      <td>0.003671</td>\n",
       "      <td>0.00029</td>\n",
       "      <td>NaN</td>\n",
       "      <td>NaN</td>\n",
       "      <td>False</td>\n",
       "      <td>False</td>\n",
       "    </tr>\n",
       "    <tr>\n",
       "      <th>2021-09-19 05:00:00+01:00</th>\n",
       "      <td>3411.707764</td>\n",
       "      <td>3432.415283</td>\n",
       "      <td>3401.060547</td>\n",
       "      <td>3409.329834</td>\n",
       "      <td>3409.329834</td>\n",
       "      <td>123011072</td>\n",
       "      <td>0.001838</td>\n",
       "      <td>NaN</td>\n",
       "      <td>NaN</td>\n",
       "      <td>NaN</td>\n",
       "      <td>False</td>\n",
       "      <td>False</td>\n",
       "    </tr>\n",
       "    <tr>\n",
       "      <th>2021-09-19 06:00:00+01:00</th>\n",
       "      <td>3412.923340</td>\n",
       "      <td>3427.196533</td>\n",
       "      <td>3408.376221</td>\n",
       "      <td>3424.241211</td>\n",
       "      <td>3424.241211</td>\n",
       "      <td>74695680</td>\n",
       "      <td>0.000799</td>\n",
       "      <td>NaN</td>\n",
       "      <td>NaN</td>\n",
       "      <td>NaN</td>\n",
       "      <td>False</td>\n",
       "      <td>False</td>\n",
       "    </tr>\n",
       "    <tr>\n",
       "      <th>2021-09-19 07:00:00+01:00</th>\n",
       "      <td>3426.118408</td>\n",
       "      <td>3429.235840</td>\n",
       "      <td>3415.951172</td>\n",
       "      <td>3423.494873</td>\n",
       "      <td>3423.494873</td>\n",
       "      <td>29252608</td>\n",
       "      <td>NaN</td>\n",
       "      <td>NaN</td>\n",
       "      <td>NaN</td>\n",
       "      <td>NaN</td>\n",
       "      <td>False</td>\n",
       "      <td>False</td>\n",
       "    </tr>\n",
       "    <tr>\n",
       "      <th>2021-09-19 07:50:02+01:00</th>\n",
       "      <td>3424.460938</td>\n",
       "      <td>3424.460938</td>\n",
       "      <td>3424.460938</td>\n",
       "      <td>3424.460938</td>\n",
       "      <td>3424.460938</td>\n",
       "      <td>0</td>\n",
       "      <td>NaN</td>\n",
       "      <td>NaN</td>\n",
       "      <td>NaN</td>\n",
       "      <td>NaN</td>\n",
       "      <td>False</td>\n",
       "      <td>False</td>\n",
       "    </tr>\n",
       "  </tbody>\n",
       "</table>\n",
       "</div>"
      ],
      "text/plain": [
       "                                  Open         High          Low        Close  \\\n",
       "2021-09-19 04:00:00+01:00  3421.201172  3425.453857  3406.264893  3413.086670   \n",
       "2021-09-19 05:00:00+01:00  3411.707764  3432.415283  3401.060547  3409.329834   \n",
       "2021-09-19 06:00:00+01:00  3412.923340  3427.196533  3408.376221  3424.241211   \n",
       "2021-09-19 07:00:00+01:00  3426.118408  3429.235840  3415.951172  3423.494873   \n",
       "2021-09-19 07:50:02+01:00  3424.460938  3424.460938  3424.460938  3424.460938   \n",
       "\n",
       "                             Adj Close     Volume     var_2    var_4  var_6  \\\n",
       "2021-09-19 04:00:00+01:00  3413.086670  107606016  0.003671  0.00029    NaN   \n",
       "2021-09-19 05:00:00+01:00  3409.329834  123011072  0.001838      NaN    NaN   \n",
       "2021-09-19 06:00:00+01:00  3424.241211   74695680  0.000799      NaN    NaN   \n",
       "2021-09-19 07:00:00+01:00  3423.494873   29252608       NaN      NaN    NaN   \n",
       "2021-09-19 07:50:02+01:00  3424.460938          0       NaN      NaN    NaN   \n",
       "\n",
       "                           var_8  target  isHigher  \n",
       "2021-09-19 04:00:00+01:00    NaN   False     False  \n",
       "2021-09-19 05:00:00+01:00    NaN   False     False  \n",
       "2021-09-19 06:00:00+01:00    NaN   False     False  \n",
       "2021-09-19 07:00:00+01:00    NaN   False     False  \n",
       "2021-09-19 07:50:02+01:00    NaN   False     False  "
      ]
     },
     "metadata": {},
     "execution_count": 11
    }
   ],
   "metadata": {}
  },
  {
   "cell_type": "code",
   "execution_count": 12,
   "source": [
    "data = data[['Open','High','Low','Close','Volume','isHigher']]"
   ],
   "outputs": [],
   "metadata": {}
  },
  {
   "cell_type": "code",
   "execution_count": 13,
   "source": [
    "data.to_csv(\"train.csv\",index=False)"
   ],
   "outputs": [],
   "metadata": {}
  },
  {
   "cell_type": "code",
   "execution_count": 17,
   "source": [
    "data.iloc[-10:].to_csv(\"test.csv\",index=False)"
   ],
   "outputs": [],
   "metadata": {}
  },
  {
   "cell_type": "code",
   "execution_count": 23,
   "source": [
    "set() <= set([0,1])"
   ],
   "outputs": [
    {
     "output_type": "execute_result",
     "data": {
      "text/plain": [
       "True"
      ]
     },
     "metadata": {},
     "execution_count": 23
    }
   ],
   "metadata": {}
  },
  {
   "cell_type": "code",
   "execution_count": 25,
   "source": [
    "X_train, X_test, y_train, y_test = train_test_split(\r\n",
    "    data.drop('isHigher', axis=1),  # predictors\r\n",
    "    data['isHigher'],  # target\r\n",
    "    test_size=0.2,  # percentage of obs in test set\r\n",
    "    random_state=0)  # seed to ensure reproducibility\r\n",
    "\r\n",
    "X_train.shape, X_test.shape"
   ],
   "outputs": [
    {
     "output_type": "execute_result",
     "data": {
      "text/plain": [
       "((4660, 5), (1165, 5))"
      ]
     },
     "metadata": {},
     "execution_count": 25
    }
   ],
   "metadata": {}
  },
  {
   "cell_type": "code",
   "execution_count": 26,
   "source": [
    "print(y_train.mean())\r\n",
    "print(y_test.mean())"
   ],
   "outputs": [
    {
     "output_type": "stream",
     "name": "stdout",
     "text": [
      "0.36630901287553647\n",
      "0.3776824034334764\n"
     ]
    }
   ],
   "metadata": {}
  },
  {
   "cell_type": "code",
   "execution_count": 27,
   "source": [
    "# set up the pipeline\r\n",
    "trade_pipe = Pipeline([\r\n",
    "\r\n",
    "    # scale\r\n",
    "    ('scaler', StandardScaler()),\r\n",
    "\r\n",
    "    ('Logit', LogisticRegression(C=0.0005,class_weight='balanced', random_state=0)),\r\n",
    "])"
   ],
   "outputs": [],
   "metadata": {}
  },
  {
   "cell_type": "code",
   "execution_count": 28,
   "source": [
    "trade_pipe.fit(X_train,y_train)"
   ],
   "outputs": [
    {
     "output_type": "execute_result",
     "data": {
      "text/plain": [
       "Pipeline(steps=[('scaler', StandardScaler()),\n",
       "                ('Logit',\n",
       "                 LogisticRegression(C=0.0005, class_weight='balanced',\n",
       "                                    random_state=0))])"
      ]
     },
     "metadata": {},
     "execution_count": 28
    }
   ],
   "metadata": {}
  },
  {
   "cell_type": "code",
   "execution_count": 29,
   "source": [
    "# make predictions for train set\r\n",
    "class_ = trade_pipe.predict(X_train)\r\n",
    "pred = trade_pipe.predict_proba(X_train)[:,1]\r\n",
    "\r\n",
    "# determine mse and rmse\r\n",
    "print('train roc-auc: {}'.format(roc_auc_score(y_train, pred)))\r\n",
    "print('train accuracy: {}'.format(accuracy_score(y_train, class_)))\r\n",
    "print(confusion_matrix(y_train,class_))\r\n",
    "print()\r\n",
    "\r\n",
    "# make predictions for test set\r\n",
    "class_ = trade_pipe.predict(X_test)\r\n",
    "pred = trade_pipe.predict_proba(X_test)[:,1]\r\n",
    "\r\n",
    "# determine mse and rmse\r\n",
    "print('test roc-auc: {}'.format(roc_auc_score(y_test, pred)))\r\n",
    "print('test accuracy: {}'.format(accuracy_score(y_test, class_)))\r\n",
    "print(confusion_matrix(y_test,class_))\r\n",
    "print()"
   ],
   "outputs": [
    {
     "output_type": "stream",
     "name": "stdout",
     "text": [
      "train roc-auc: 0.5158831853301806\n",
      "train accuracy: 0.5405579399141631\n",
      "[[1729 1224]\n",
      " [ 917  790]]\n",
      "\n",
      "test roc-auc: 0.5033949843260188\n",
      "test accuracy: 0.5201716738197425\n",
      "[[414 311]\n",
      " [248 192]]\n",
      "\n"
     ]
    }
   ],
   "metadata": {
    "scrolled": false
   }
  },
  {
   "cell_type": "code",
   "execution_count": 40,
   "source": [
    "class_[0].dtype"
   ],
   "outputs": [
    {
     "output_type": "execute_result",
     "data": {
      "text/plain": [
       "dtype('bool')"
      ]
     },
     "metadata": {},
     "execution_count": 40
    }
   ],
   "metadata": {}
  },
  {
   "cell_type": "code",
   "execution_count": 7,
   "source": [
    "\r\n",
    "#declare figure\r\n",
    "fig = go.Figure()\r\n",
    "\r\n",
    "#Candlestick\r\n",
    "fig.add_trace(go.Candlestick(x=data.index,\r\n",
    "                open=data['Open'],\r\n",
    "                high=data['High'],\r\n",
    "                low=data['Low'],\r\n",
    "                close=data['Close'], name = 'market data'))\r\n",
    "\r\n",
    "# Add titles\r\n",
    "fig.update_layout(\r\n",
    "    title='Bitcoin live share price evolution',\r\n",
    "    yaxis_title='Bitcoin Price (kUS Dollars)')\r\n",
    "\r\n",
    "# X-Axes\r\n",
    "fig.update_xaxes(\r\n",
    "    rangeslider_visible=True,\r\n",
    "    rangeselector=dict(\r\n",
    "        buttons=list([\r\n",
    "            dict(count=15, label=\"15m\", step=\"minute\", stepmode=\"backward\"),\r\n",
    "            dict(count=45, label=\"45m\", step=\"minute\", stepmode=\"backward\"),\r\n",
    "            dict(count=1, label=\"HTD\", step=\"hour\", stepmode=\"todate\"),\r\n",
    "            dict(count=6, label=\"6h\", step=\"hour\", stepmode=\"backward\"),\r\n",
    "            dict(step=\"all\")\r\n",
    "        ])\r\n",
    "    )\r\n",
    ")\r\n",
    "\r\n",
    "#Show\r\n",
    "fig.show()"
   ],
   "outputs": [
    {
     "output_type": "stream",
     "name": "stdout",
     "text": [
      "[*********************100%***********************]  1 of 1 completed\n"
     ]
    },
    {
     "output_type": "display_data",
     "data": {
      "application/vnd.plotly.v1+json": {
       "config": {
        "plotlyServerURL": "https://plot.ly"
       },
       "data": [
        {
         "close": [
          0.43145835399627686,
          0.43362489342689514,
          0.435160368680954,
          0.4364232122898102,
          0.4365803301334381,
          0.43352463841438293,
          0.43654665350914,
          0.4377138614654541,
          0.43807974457740784,
          0.4377444088459015,
          0.43576711416244507,
          0.4343138039112091,
          0.43442821502685547,
          0.42988160252571106,
          0.4316193461418152,
          0.4341545104980469,
          0.43459856510162354,
          0.43642595410346985,
          0.43770524859428406,
          0.4373248815536499,
          0.4370444118976593,
          0.43191006779670715,
          0.43118664622306824,
          0.43136918544769287,
          0.434328556060791,
          0.4311128258705139,
          0.4323521554470062,
          0.43451476097106934,
          0.43717268109321594,
          0.43723931908607483,
          0.4363265931606293,
          0.4379977583885193,
          0.43985864520072937,
          0.4420830011367798,
          0.4423336684703827,
          0.4396551251411438,
          0.4413049817085266,
          0.4460686445236206,
          0.4432299733161926,
          0.44049814343452454,
          0.4404478371143341,
          0.43858954310417175,
          0.4408227205276489,
          0.44188401103019714,
          0.4418162703514099,
          0.4402006268501282,
          0.4415843188762665,
          0.44166263937950134,
          0.445144385099411,
          0.4499328136444092,
          0.4455522894859314,
          0.4476539194583893,
          0.448440283536911,
          0.4497515559196472,
          0.45077255368232727,
          0.45296525955200195,
          0.45040953159332275,
          0.44954293966293335,
          0.4504728317260742,
          0.44770103693008423,
          0.446370929479599,
          0.44698402285575867,
          0.44503501057624817,
          0.44585344195365906,
          0.44718459248542786,
          0.44582653045654297,
          0.44497150182724,
          0.4457617700099945,
          0.44629693031311035,
          0.4485389292240143,
          0.4497298300266266,
          0.45053499937057495,
          0.45676201581954956,
          0.45380106568336487,
          0.45392927527427673,
          0.45264503359794617,
          0.45391860604286194,
          0.4493301808834076,
          0.4521138668060303,
          0.4495505094528198,
          0.44933706521987915,
          0.44887852668762207,
          0.4491887390613556,
          0.4505373239517212,
          0.45084312558174133,
          0.45158398151397705
         ],
         "high": [
          0.4341733455657959,
          0.43505945801734924,
          0.43573498725891113,
          0.43746069073677063,
          0.43688660860061646,
          0.436766654253006,
          0.43654665350914,
          0.4386637508869171,
          0.43821993470191956,
          0.4379195272922516,
          0.43810585141181946,
          0.4367367923259735,
          0.43484559655189514,
          0.43531712889671326,
          0.43237069249153137,
          0.4344213008880615,
          0.43613550066947937,
          0.4377293586730957,
          0.43770524859428406,
          0.43803414702415466,
          0.43744510412216187,
          0.4368520677089691,
          0.43270519375801086,
          0.43211260437965393,
          0.434328556060791,
          0.4341490566730499,
          0.4337548017501831,
          0.4347320795059204,
          0.43717268109321594,
          0.4378662407398224,
          0.4377073049545288,
          0.4379981756210327,
          0.44006723165512085,
          0.4420830011367798,
          0.44310975074768066,
          0.442421555519104,
          0.44161444902420044,
          0.4460686445236206,
          0.4467897117137909,
          0.443037211894989,
          0.44083893299102783,
          0.4405421316623688,
          0.44121822714805603,
          0.4429989159107208,
          0.44301843643188477,
          0.44167667627334595,
          0.442038357257843,
          0.44275131821632385,
          0.4459412097930908,
          0.4516202211380005,
          0.4492102563381195,
          0.4485417306423187,
          0.44979360699653625,
          0.4512004256248474,
          0.45413288474082947,
          0.45338037610054016,
          0.45235463976860046,
          0.4514760971069336,
          0.4513337314128876,
          0.45090726017951965,
          0.44779738783836365,
          0.4479900300502777,
          0.44670790433883667,
          0.4458748400211334,
          0.44718459248542786,
          0.4473564028739929,
          0.4470638036727905,
          0.4468225836753845,
          0.44680023193359375,
          0.4485389292240143,
          0.45013633370399475,
          0.45083650946617126,
          0.45676201581954956,
          0.4558698236942291,
          0.4550480246543884,
          0.4540172517299652,
          0.45391860604286194,
          0.454534649848938,
          0.4529646933078766,
          0.45188942551612854,
          0.4501801133155823,
          0.45053568482398987,
          0.4496929943561554,
          0.450703889131546,
          0.45104900002479553,
          0.45158398151397705
         ],
         "low": [
          0.4308166801929474,
          0.4296807646751404,
          0.43311476707458496,
          0.4348263442516327,
          0.4360652267932892,
          0.43352463841438293,
          0.4327685832977295,
          0.4364232122898102,
          0.43516042828559875,
          0.4360959827899933,
          0.43469300866127014,
          0.4343138039112091,
          0.43364688754081726,
          0.4296373426914215,
          0.42965060472488403,
          0.431844025850296,
          0.4344613254070282,
          0.4342917501926422,
          0.43616607785224915,
          0.4370085895061493,
          0.4358590245246887,
          0.43191006779670715,
          0.43071508407592773,
          0.4308851659297943,
          0.4313385784626007,
          0.4311128258705139,
          0.4323521554470062,
          0.4333823621273041,
          0.43470117449760437,
          0.43636640906333923,
          0.4359704554080963,
          0.43568092584609985,
          0.43769121170043945,
          0.4394986927509308,
          0.44130539894104004,
          0.4396551251411438,
          0.440025269985199,
          0.44088831543922424,
          0.44265785813331604,
          0.43993303179740906,
          0.43997806310653687,
          0.4382513165473938,
          0.43817833065986633,
          0.4409896433353424,
          0.4413776695728302,
          0.43991217017173767,
          0.44062304496765137,
          0.4413521885871887,
          0.44202423095703125,
          0.44485270977020264,
          0.4455522894859314,
          0.44538193941116333,
          0.4477236270904541,
          0.44789278507232666,
          0.4499102532863617,
          0.450562447309494,
          0.4501006603240967,
          0.4488406181335449,
          0.44911909103393555,
          0.446911484003067,
          0.4457254111766815,
          0.44698402285575867,
          0.44483914971351624,
          0.44418078660964966,
          0.4458693563938141,
          0.44582653045654297,
          0.44497150182724,
          0.44471919536590576,
          0.4454535245895386,
          0.44534561038017273,
          0.4480973184108734,
          0.44973212480545044,
          0.4503767490386963,
          0.4533621668815613,
          0.4533332586288452,
          0.4519321322441101,
          0.45189815759658813,
          0.44845038652420044,
          0.4506019651889801,
          0.4479570984840393,
          0.4484707713127136,
          0.44887852668762207,
          0.44851672649383545,
          0.44917330145835876,
          0.45057645440101624,
          0.45158398151397705
         ],
         "name": "market data",
         "open": [
          0.43351292610168457,
          0.43108269572257996,
          0.4340265095233917,
          0.4348263442516327,
          0.43688660860061646,
          0.436766654253006,
          0.4345972239971161,
          0.43654772639274597,
          0.437160462141037,
          0.43691882491111755,
          0.4378981590270996,
          0.4356667697429657,
          0.4345678985118866,
          0.43531712889671326,
          0.42965060472488403,
          0.431844025850296,
          0.4353696405887604,
          0.4342917501926422,
          0.43663331866264343,
          0.4376702606678009,
          0.43744510412216187,
          0.4368520677089691,
          0.4319215714931488,
          0.43211260437965393,
          0.4322739243507385,
          0.4339984357357025,
          0.4328063726425171,
          0.4335877001285553,
          0.43470117449760437,
          0.43702128529548645,
          0.43746864795684814,
          0.4365813732147217,
          0.43769121170043945,
          0.44057202339172363,
          0.44184422492980957,
          0.442421555519104,
          0.4401647746562958,
          0.44117164611816406,
          0.4454643130302429,
          0.443037211894989,
          0.43997806310653687,
          0.4405421316623688,
          0.43817833065986633,
          0.44210025668144226,
          0.4423691928386688,
          0.44167667627334595,
          0.44062304496765137,
          0.4413521885871887,
          0.44202423095703125,
          0.44485270977020264,
          0.4492102563381195,
          0.44538193941116333,
          0.44908034801483154,
          0.44889476895332336,
          0.45087283849716187,
          0.45162925124168396,
          0.4514505863189697,
          0.4514760971069336,
          0.4492536783218384,
          0.45025840401649475,
          0.4475427567958832,
          0.4470360279083252,
          0.4463529586791992,
          0.44418078660964966,
          0.44598084688186646,
          0.4470869302749634,
          0.44586509466171265,
          0.44471919536590576,
          0.44548916816711426,
          0.44639676809310913,
          0.4482414722442627,
          0.4498522877693176,
          0.4503767490386963,
          0.4558698236942291,
          0.45380690693855286,
          0.45383551716804504,
          0.4525814950466156,
          0.4536797106266022,
          0.45071926712989807,
          0.45188942551612854,
          0.4485383629798889,
          0.44962143898010254,
          0.4488275945186615,
          0.44917330145835876,
          0.45104900002479553,
          0.45158398151397705
         ],
         "type": "candlestick",
         "x": [
          "2021-08-22T15:45:00+01:00",
          "2021-08-22T16:00:00+01:00",
          "2021-08-22T16:15:00+01:00",
          "2021-08-22T16:30:00+01:00",
          "2021-08-22T16:45:00+01:00",
          "2021-08-22T17:00:00+01:00",
          "2021-08-22T17:15:00+01:00",
          "2021-08-22T17:30:00+01:00",
          "2021-08-22T17:45:00+01:00",
          "2021-08-22T18:00:00+01:00",
          "2021-08-22T18:15:00+01:00",
          "2021-08-22T18:30:00+01:00",
          "2021-08-22T18:45:00+01:00",
          "2021-08-22T19:00:00+01:00",
          "2021-08-22T19:15:00+01:00",
          "2021-08-22T19:30:00+01:00",
          "2021-08-22T19:45:00+01:00",
          "2021-08-22T20:00:00+01:00",
          "2021-08-22T20:15:00+01:00",
          "2021-08-22T20:30:00+01:00",
          "2021-08-22T20:45:00+01:00",
          "2021-08-22T21:00:00+01:00",
          "2021-08-22T21:15:00+01:00",
          "2021-08-22T21:30:00+01:00",
          "2021-08-22T21:45:00+01:00",
          "2021-08-22T22:00:00+01:00",
          "2021-08-22T22:15:00+01:00",
          "2021-08-22T22:30:00+01:00",
          "2021-08-22T22:45:00+01:00",
          "2021-08-22T23:00:00+01:00",
          "2021-08-22T23:15:00+01:00",
          "2021-08-22T23:30:00+01:00",
          "2021-08-22T23:45:00+01:00",
          "2021-08-23T00:00:00+01:00",
          "2021-08-23T00:15:00+01:00",
          "2021-08-23T00:30:00+01:00",
          "2021-08-23T00:45:00+01:00",
          "2021-08-23T01:00:00+01:00",
          "2021-08-23T01:15:00+01:00",
          "2021-08-23T01:30:00+01:00",
          "2021-08-23T01:45:00+01:00",
          "2021-08-23T02:00:00+01:00",
          "2021-08-23T02:15:00+01:00",
          "2021-08-23T02:30:00+01:00",
          "2021-08-23T02:45:00+01:00",
          "2021-08-23T03:00:00+01:00",
          "2021-08-23T03:15:00+01:00",
          "2021-08-23T03:30:00+01:00",
          "2021-08-23T03:45:00+01:00",
          "2021-08-23T04:00:00+01:00",
          "2021-08-23T04:15:00+01:00",
          "2021-08-23T04:30:00+01:00",
          "2021-08-23T04:45:00+01:00",
          "2021-08-23T05:00:00+01:00",
          "2021-08-23T05:15:00+01:00",
          "2021-08-23T05:30:00+01:00",
          "2021-08-23T05:45:00+01:00",
          "2021-08-23T06:00:00+01:00",
          "2021-08-23T06:15:00+01:00",
          "2021-08-23T06:30:00+01:00",
          "2021-08-23T06:45:00+01:00",
          "2021-08-23T07:00:00+01:00",
          "2021-08-23T07:15:00+01:00",
          "2021-08-23T07:30:00+01:00",
          "2021-08-23T07:45:00+01:00",
          "2021-08-23T08:00:00+01:00",
          "2021-08-23T08:15:00+01:00",
          "2021-08-23T08:30:00+01:00",
          "2021-08-23T08:45:00+01:00",
          "2021-08-23T09:00:00+01:00",
          "2021-08-23T09:15:00+01:00",
          "2021-08-23T09:30:00+01:00",
          "2021-08-23T09:45:00+01:00",
          "2021-08-23T10:00:00+01:00",
          "2021-08-23T10:15:00+01:00",
          "2021-08-23T10:30:00+01:00",
          "2021-08-23T10:45:00+01:00",
          "2021-08-23T11:00:00+01:00",
          "2021-08-23T11:15:00+01:00",
          "2021-08-23T11:30:00+01:00",
          "2021-08-23T11:45:00+01:00",
          "2021-08-23T12:00:00+01:00",
          "2021-08-23T12:15:00+01:00",
          "2021-08-23T12:30:00+01:00",
          "2021-08-23T12:45:00+01:00",
          "2021-08-23T12:52:36+01:00"
         ]
        }
       ],
       "layout": {
        "template": {
         "data": {
          "bar": [
           {
            "error_x": {
             "color": "#2a3f5f"
            },
            "error_y": {
             "color": "#2a3f5f"
            },
            "marker": {
             "line": {
              "color": "#E5ECF6",
              "width": 0.5
             },
             "pattern": {
              "fillmode": "overlay",
              "size": 10,
              "solidity": 0.2
             }
            },
            "type": "bar"
           }
          ],
          "barpolar": [
           {
            "marker": {
             "line": {
              "color": "#E5ECF6",
              "width": 0.5
             },
             "pattern": {
              "fillmode": "overlay",
              "size": 10,
              "solidity": 0.2
             }
            },
            "type": "barpolar"
           }
          ],
          "carpet": [
           {
            "aaxis": {
             "endlinecolor": "#2a3f5f",
             "gridcolor": "white",
             "linecolor": "white",
             "minorgridcolor": "white",
             "startlinecolor": "#2a3f5f"
            },
            "baxis": {
             "endlinecolor": "#2a3f5f",
             "gridcolor": "white",
             "linecolor": "white",
             "minorgridcolor": "white",
             "startlinecolor": "#2a3f5f"
            },
            "type": "carpet"
           }
          ],
          "choropleth": [
           {
            "colorbar": {
             "outlinewidth": 0,
             "ticks": ""
            },
            "type": "choropleth"
           }
          ],
          "contour": [
           {
            "colorbar": {
             "outlinewidth": 0,
             "ticks": ""
            },
            "colorscale": [
             [
              0,
              "#0d0887"
             ],
             [
              0.1111111111111111,
              "#46039f"
             ],
             [
              0.2222222222222222,
              "#7201a8"
             ],
             [
              0.3333333333333333,
              "#9c179e"
             ],
             [
              0.4444444444444444,
              "#bd3786"
             ],
             [
              0.5555555555555556,
              "#d8576b"
             ],
             [
              0.6666666666666666,
              "#ed7953"
             ],
             [
              0.7777777777777778,
              "#fb9f3a"
             ],
             [
              0.8888888888888888,
              "#fdca26"
             ],
             [
              1,
              "#f0f921"
             ]
            ],
            "type": "contour"
           }
          ],
          "contourcarpet": [
           {
            "colorbar": {
             "outlinewidth": 0,
             "ticks": ""
            },
            "type": "contourcarpet"
           }
          ],
          "heatmap": [
           {
            "colorbar": {
             "outlinewidth": 0,
             "ticks": ""
            },
            "colorscale": [
             [
              0,
              "#0d0887"
             ],
             [
              0.1111111111111111,
              "#46039f"
             ],
             [
              0.2222222222222222,
              "#7201a8"
             ],
             [
              0.3333333333333333,
              "#9c179e"
             ],
             [
              0.4444444444444444,
              "#bd3786"
             ],
             [
              0.5555555555555556,
              "#d8576b"
             ],
             [
              0.6666666666666666,
              "#ed7953"
             ],
             [
              0.7777777777777778,
              "#fb9f3a"
             ],
             [
              0.8888888888888888,
              "#fdca26"
             ],
             [
              1,
              "#f0f921"
             ]
            ],
            "type": "heatmap"
           }
          ],
          "heatmapgl": [
           {
            "colorbar": {
             "outlinewidth": 0,
             "ticks": ""
            },
            "colorscale": [
             [
              0,
              "#0d0887"
             ],
             [
              0.1111111111111111,
              "#46039f"
             ],
             [
              0.2222222222222222,
              "#7201a8"
             ],
             [
              0.3333333333333333,
              "#9c179e"
             ],
             [
              0.4444444444444444,
              "#bd3786"
             ],
             [
              0.5555555555555556,
              "#d8576b"
             ],
             [
              0.6666666666666666,
              "#ed7953"
             ],
             [
              0.7777777777777778,
              "#fb9f3a"
             ],
             [
              0.8888888888888888,
              "#fdca26"
             ],
             [
              1,
              "#f0f921"
             ]
            ],
            "type": "heatmapgl"
           }
          ],
          "histogram": [
           {
            "marker": {
             "pattern": {
              "fillmode": "overlay",
              "size": 10,
              "solidity": 0.2
             }
            },
            "type": "histogram"
           }
          ],
          "histogram2d": [
           {
            "colorbar": {
             "outlinewidth": 0,
             "ticks": ""
            },
            "colorscale": [
             [
              0,
              "#0d0887"
             ],
             [
              0.1111111111111111,
              "#46039f"
             ],
             [
              0.2222222222222222,
              "#7201a8"
             ],
             [
              0.3333333333333333,
              "#9c179e"
             ],
             [
              0.4444444444444444,
              "#bd3786"
             ],
             [
              0.5555555555555556,
              "#d8576b"
             ],
             [
              0.6666666666666666,
              "#ed7953"
             ],
             [
              0.7777777777777778,
              "#fb9f3a"
             ],
             [
              0.8888888888888888,
              "#fdca26"
             ],
             [
              1,
              "#f0f921"
             ]
            ],
            "type": "histogram2d"
           }
          ],
          "histogram2dcontour": [
           {
            "colorbar": {
             "outlinewidth": 0,
             "ticks": ""
            },
            "colorscale": [
             [
              0,
              "#0d0887"
             ],
             [
              0.1111111111111111,
              "#46039f"
             ],
             [
              0.2222222222222222,
              "#7201a8"
             ],
             [
              0.3333333333333333,
              "#9c179e"
             ],
             [
              0.4444444444444444,
              "#bd3786"
             ],
             [
              0.5555555555555556,
              "#d8576b"
             ],
             [
              0.6666666666666666,
              "#ed7953"
             ],
             [
              0.7777777777777778,
              "#fb9f3a"
             ],
             [
              0.8888888888888888,
              "#fdca26"
             ],
             [
              1,
              "#f0f921"
             ]
            ],
            "type": "histogram2dcontour"
           }
          ],
          "mesh3d": [
           {
            "colorbar": {
             "outlinewidth": 0,
             "ticks": ""
            },
            "type": "mesh3d"
           }
          ],
          "parcoords": [
           {
            "line": {
             "colorbar": {
              "outlinewidth": 0,
              "ticks": ""
             }
            },
            "type": "parcoords"
           }
          ],
          "pie": [
           {
            "automargin": true,
            "type": "pie"
           }
          ],
          "scatter": [
           {
            "marker": {
             "colorbar": {
              "outlinewidth": 0,
              "ticks": ""
             }
            },
            "type": "scatter"
           }
          ],
          "scatter3d": [
           {
            "line": {
             "colorbar": {
              "outlinewidth": 0,
              "ticks": ""
             }
            },
            "marker": {
             "colorbar": {
              "outlinewidth": 0,
              "ticks": ""
             }
            },
            "type": "scatter3d"
           }
          ],
          "scattercarpet": [
           {
            "marker": {
             "colorbar": {
              "outlinewidth": 0,
              "ticks": ""
             }
            },
            "type": "scattercarpet"
           }
          ],
          "scattergeo": [
           {
            "marker": {
             "colorbar": {
              "outlinewidth": 0,
              "ticks": ""
             }
            },
            "type": "scattergeo"
           }
          ],
          "scattergl": [
           {
            "marker": {
             "colorbar": {
              "outlinewidth": 0,
              "ticks": ""
             }
            },
            "type": "scattergl"
           }
          ],
          "scattermapbox": [
           {
            "marker": {
             "colorbar": {
              "outlinewidth": 0,
              "ticks": ""
             }
            },
            "type": "scattermapbox"
           }
          ],
          "scatterpolar": [
           {
            "marker": {
             "colorbar": {
              "outlinewidth": 0,
              "ticks": ""
             }
            },
            "type": "scatterpolar"
           }
          ],
          "scatterpolargl": [
           {
            "marker": {
             "colorbar": {
              "outlinewidth": 0,
              "ticks": ""
             }
            },
            "type": "scatterpolargl"
           }
          ],
          "scatterternary": [
           {
            "marker": {
             "colorbar": {
              "outlinewidth": 0,
              "ticks": ""
             }
            },
            "type": "scatterternary"
           }
          ],
          "surface": [
           {
            "colorbar": {
             "outlinewidth": 0,
             "ticks": ""
            },
            "colorscale": [
             [
              0,
              "#0d0887"
             ],
             [
              0.1111111111111111,
              "#46039f"
             ],
             [
              0.2222222222222222,
              "#7201a8"
             ],
             [
              0.3333333333333333,
              "#9c179e"
             ],
             [
              0.4444444444444444,
              "#bd3786"
             ],
             [
              0.5555555555555556,
              "#d8576b"
             ],
             [
              0.6666666666666666,
              "#ed7953"
             ],
             [
              0.7777777777777778,
              "#fb9f3a"
             ],
             [
              0.8888888888888888,
              "#fdca26"
             ],
             [
              1,
              "#f0f921"
             ]
            ],
            "type": "surface"
           }
          ],
          "table": [
           {
            "cells": {
             "fill": {
              "color": "#EBF0F8"
             },
             "line": {
              "color": "white"
             }
            },
            "header": {
             "fill": {
              "color": "#C8D4E3"
             },
             "line": {
              "color": "white"
             }
            },
            "type": "table"
           }
          ]
         },
         "layout": {
          "annotationdefaults": {
           "arrowcolor": "#2a3f5f",
           "arrowhead": 0,
           "arrowwidth": 1
          },
          "autotypenumbers": "strict",
          "coloraxis": {
           "colorbar": {
            "outlinewidth": 0,
            "ticks": ""
           }
          },
          "colorscale": {
           "diverging": [
            [
             0,
             "#8e0152"
            ],
            [
             0.1,
             "#c51b7d"
            ],
            [
             0.2,
             "#de77ae"
            ],
            [
             0.3,
             "#f1b6da"
            ],
            [
             0.4,
             "#fde0ef"
            ],
            [
             0.5,
             "#f7f7f7"
            ],
            [
             0.6,
             "#e6f5d0"
            ],
            [
             0.7,
             "#b8e186"
            ],
            [
             0.8,
             "#7fbc41"
            ],
            [
             0.9,
             "#4d9221"
            ],
            [
             1,
             "#276419"
            ]
           ],
           "sequential": [
            [
             0,
             "#0d0887"
            ],
            [
             0.1111111111111111,
             "#46039f"
            ],
            [
             0.2222222222222222,
             "#7201a8"
            ],
            [
             0.3333333333333333,
             "#9c179e"
            ],
            [
             0.4444444444444444,
             "#bd3786"
            ],
            [
             0.5555555555555556,
             "#d8576b"
            ],
            [
             0.6666666666666666,
             "#ed7953"
            ],
            [
             0.7777777777777778,
             "#fb9f3a"
            ],
            [
             0.8888888888888888,
             "#fdca26"
            ],
            [
             1,
             "#f0f921"
            ]
           ],
           "sequentialminus": [
            [
             0,
             "#0d0887"
            ],
            [
             0.1111111111111111,
             "#46039f"
            ],
            [
             0.2222222222222222,
             "#7201a8"
            ],
            [
             0.3333333333333333,
             "#9c179e"
            ],
            [
             0.4444444444444444,
             "#bd3786"
            ],
            [
             0.5555555555555556,
             "#d8576b"
            ],
            [
             0.6666666666666666,
             "#ed7953"
            ],
            [
             0.7777777777777778,
             "#fb9f3a"
            ],
            [
             0.8888888888888888,
             "#fdca26"
            ],
            [
             1,
             "#f0f921"
            ]
           ]
          },
          "colorway": [
           "#636efa",
           "#EF553B",
           "#00cc96",
           "#ab63fa",
           "#FFA15A",
           "#19d3f3",
           "#FF6692",
           "#B6E880",
           "#FF97FF",
           "#FECB52"
          ],
          "font": {
           "color": "#2a3f5f"
          },
          "geo": {
           "bgcolor": "white",
           "lakecolor": "white",
           "landcolor": "#E5ECF6",
           "showlakes": true,
           "showland": true,
           "subunitcolor": "white"
          },
          "hoverlabel": {
           "align": "left"
          },
          "hovermode": "closest",
          "mapbox": {
           "style": "light"
          },
          "paper_bgcolor": "white",
          "plot_bgcolor": "#E5ECF6",
          "polar": {
           "angularaxis": {
            "gridcolor": "white",
            "linecolor": "white",
            "ticks": ""
           },
           "bgcolor": "#E5ECF6",
           "radialaxis": {
            "gridcolor": "white",
            "linecolor": "white",
            "ticks": ""
           }
          },
          "scene": {
           "xaxis": {
            "backgroundcolor": "#E5ECF6",
            "gridcolor": "white",
            "gridwidth": 2,
            "linecolor": "white",
            "showbackground": true,
            "ticks": "",
            "zerolinecolor": "white"
           },
           "yaxis": {
            "backgroundcolor": "#E5ECF6",
            "gridcolor": "white",
            "gridwidth": 2,
            "linecolor": "white",
            "showbackground": true,
            "ticks": "",
            "zerolinecolor": "white"
           },
           "zaxis": {
            "backgroundcolor": "#E5ECF6",
            "gridcolor": "white",
            "gridwidth": 2,
            "linecolor": "white",
            "showbackground": true,
            "ticks": "",
            "zerolinecolor": "white"
           }
          },
          "shapedefaults": {
           "line": {
            "color": "#2a3f5f"
           }
          },
          "ternary": {
           "aaxis": {
            "gridcolor": "white",
            "linecolor": "white",
            "ticks": ""
           },
           "baxis": {
            "gridcolor": "white",
            "linecolor": "white",
            "ticks": ""
           },
           "bgcolor": "#E5ECF6",
           "caxis": {
            "gridcolor": "white",
            "linecolor": "white",
            "ticks": ""
           }
          },
          "title": {
           "x": 0.05
          },
          "xaxis": {
           "automargin": true,
           "gridcolor": "white",
           "linecolor": "white",
           "ticks": "",
           "title": {
            "standoff": 15
           },
           "zerolinecolor": "white",
           "zerolinewidth": 2
          },
          "yaxis": {
           "automargin": true,
           "gridcolor": "white",
           "linecolor": "white",
           "ticks": "",
           "title": {
            "standoff": 15
           },
           "zerolinecolor": "white",
           "zerolinewidth": 2
          }
         }
        },
        "title": {
         "text": "Bitcoin live share price evolution"
        },
        "xaxis": {
         "rangeselector": {
          "buttons": [
           {
            "count": 15,
            "label": "15m",
            "step": "minute",
            "stepmode": "backward"
           },
           {
            "count": 45,
            "label": "45m",
            "step": "minute",
            "stepmode": "backward"
           },
           {
            "count": 1,
            "label": "HTD",
            "step": "hour",
            "stepmode": "todate"
           },
           {
            "count": 6,
            "label": "6h",
            "step": "hour",
            "stepmode": "backward"
           },
           {
            "step": "all"
           }
          ]
         },
         "rangeslider": {
          "visible": true
         }
        },
        "yaxis": {
         "title": {
          "text": "Bitcoin Price (kUS Dollars)"
         }
        }
       }
      },
      "text/html": [
       "<div>                            <div id=\"c3f423a8-9b42-4e2b-92ec-247933a5367e\" class=\"plotly-graph-div\" style=\"height:525px; width:100%;\"></div>            <script type=\"text/javascript\">                require([\"plotly\"], function(Plotly) {                    window.PLOTLYENV=window.PLOTLYENV || {};                                    if (document.getElementById(\"c3f423a8-9b42-4e2b-92ec-247933a5367e\")) {                    Plotly.newPlot(                        \"c3f423a8-9b42-4e2b-92ec-247933a5367e\",                        [{\"close\":[0.43145835399627686,0.43362489342689514,0.435160368680954,0.4364232122898102,0.4365803301334381,0.43352463841438293,0.43654665350914,0.4377138614654541,0.43807974457740784,0.4377444088459015,0.43576711416244507,0.4343138039112091,0.43442821502685547,0.42988160252571106,0.4316193461418152,0.4341545104980469,0.43459856510162354,0.43642595410346985,0.43770524859428406,0.4373248815536499,0.4370444118976593,0.43191006779670715,0.43118664622306824,0.43136918544769287,0.434328556060791,0.4311128258705139,0.4323521554470062,0.43451476097106934,0.43717268109321594,0.43723931908607483,0.4363265931606293,0.4379977583885193,0.43985864520072937,0.4420830011367798,0.4423336684703827,0.4396551251411438,0.4413049817085266,0.4460686445236206,0.4432299733161926,0.44049814343452454,0.4404478371143341,0.43858954310417175,0.4408227205276489,0.44188401103019714,0.4418162703514099,0.4402006268501282,0.4415843188762665,0.44166263937950134,0.445144385099411,0.4499328136444092,0.4455522894859314,0.4476539194583893,0.448440283536911,0.4497515559196472,0.45077255368232727,0.45296525955200195,0.45040953159332275,0.44954293966293335,0.4504728317260742,0.44770103693008423,0.446370929479599,0.44698402285575867,0.44503501057624817,0.44585344195365906,0.44718459248542786,0.44582653045654297,0.44497150182724,0.4457617700099945,0.44629693031311035,0.4485389292240143,0.4497298300266266,0.45053499937057495,0.45676201581954956,0.45380106568336487,0.45392927527427673,0.45264503359794617,0.45391860604286194,0.4493301808834076,0.4521138668060303,0.4495505094528198,0.44933706521987915,0.44887852668762207,0.4491887390613556,0.4505373239517212,0.45084312558174133,0.45158398151397705],\"high\":[0.4341733455657959,0.43505945801734924,0.43573498725891113,0.43746069073677063,0.43688660860061646,0.436766654253006,0.43654665350914,0.4386637508869171,0.43821993470191956,0.4379195272922516,0.43810585141181946,0.4367367923259735,0.43484559655189514,0.43531712889671326,0.43237069249153137,0.4344213008880615,0.43613550066947937,0.4377293586730957,0.43770524859428406,0.43803414702415466,0.43744510412216187,0.4368520677089691,0.43270519375801086,0.43211260437965393,0.434328556060791,0.4341490566730499,0.4337548017501831,0.4347320795059204,0.43717268109321594,0.4378662407398224,0.4377073049545288,0.4379981756210327,0.44006723165512085,0.4420830011367798,0.44310975074768066,0.442421555519104,0.44161444902420044,0.4460686445236206,0.4467897117137909,0.443037211894989,0.44083893299102783,0.4405421316623688,0.44121822714805603,0.4429989159107208,0.44301843643188477,0.44167667627334595,0.442038357257843,0.44275131821632385,0.4459412097930908,0.4516202211380005,0.4492102563381195,0.4485417306423187,0.44979360699653625,0.4512004256248474,0.45413288474082947,0.45338037610054016,0.45235463976860046,0.4514760971069336,0.4513337314128876,0.45090726017951965,0.44779738783836365,0.4479900300502777,0.44670790433883667,0.4458748400211334,0.44718459248542786,0.4473564028739929,0.4470638036727905,0.4468225836753845,0.44680023193359375,0.4485389292240143,0.45013633370399475,0.45083650946617126,0.45676201581954956,0.4558698236942291,0.4550480246543884,0.4540172517299652,0.45391860604286194,0.454534649848938,0.4529646933078766,0.45188942551612854,0.4501801133155823,0.45053568482398987,0.4496929943561554,0.450703889131546,0.45104900002479553,0.45158398151397705],\"low\":[0.4308166801929474,0.4296807646751404,0.43311476707458496,0.4348263442516327,0.4360652267932892,0.43352463841438293,0.4327685832977295,0.4364232122898102,0.43516042828559875,0.4360959827899933,0.43469300866127014,0.4343138039112091,0.43364688754081726,0.4296373426914215,0.42965060472488403,0.431844025850296,0.4344613254070282,0.4342917501926422,0.43616607785224915,0.4370085895061493,0.4358590245246887,0.43191006779670715,0.43071508407592773,0.4308851659297943,0.4313385784626007,0.4311128258705139,0.4323521554470062,0.4333823621273041,0.43470117449760437,0.43636640906333923,0.4359704554080963,0.43568092584609985,0.43769121170043945,0.4394986927509308,0.44130539894104004,0.4396551251411438,0.440025269985199,0.44088831543922424,0.44265785813331604,0.43993303179740906,0.43997806310653687,0.4382513165473938,0.43817833065986633,0.4409896433353424,0.4413776695728302,0.43991217017173767,0.44062304496765137,0.4413521885871887,0.44202423095703125,0.44485270977020264,0.4455522894859314,0.44538193941116333,0.4477236270904541,0.44789278507232666,0.4499102532863617,0.450562447309494,0.4501006603240967,0.4488406181335449,0.44911909103393555,0.446911484003067,0.4457254111766815,0.44698402285575867,0.44483914971351624,0.44418078660964966,0.4458693563938141,0.44582653045654297,0.44497150182724,0.44471919536590576,0.4454535245895386,0.44534561038017273,0.4480973184108734,0.44973212480545044,0.4503767490386963,0.4533621668815613,0.4533332586288452,0.4519321322441101,0.45189815759658813,0.44845038652420044,0.4506019651889801,0.4479570984840393,0.4484707713127136,0.44887852668762207,0.44851672649383545,0.44917330145835876,0.45057645440101624,0.45158398151397705],\"name\":\"market data\",\"open\":[0.43351292610168457,0.43108269572257996,0.4340265095233917,0.4348263442516327,0.43688660860061646,0.436766654253006,0.4345972239971161,0.43654772639274597,0.437160462141037,0.43691882491111755,0.4378981590270996,0.4356667697429657,0.4345678985118866,0.43531712889671326,0.42965060472488403,0.431844025850296,0.4353696405887604,0.4342917501926422,0.43663331866264343,0.4376702606678009,0.43744510412216187,0.4368520677089691,0.4319215714931488,0.43211260437965393,0.4322739243507385,0.4339984357357025,0.4328063726425171,0.4335877001285553,0.43470117449760437,0.43702128529548645,0.43746864795684814,0.4365813732147217,0.43769121170043945,0.44057202339172363,0.44184422492980957,0.442421555519104,0.4401647746562958,0.44117164611816406,0.4454643130302429,0.443037211894989,0.43997806310653687,0.4405421316623688,0.43817833065986633,0.44210025668144226,0.4423691928386688,0.44167667627334595,0.44062304496765137,0.4413521885871887,0.44202423095703125,0.44485270977020264,0.4492102563381195,0.44538193941116333,0.44908034801483154,0.44889476895332336,0.45087283849716187,0.45162925124168396,0.4514505863189697,0.4514760971069336,0.4492536783218384,0.45025840401649475,0.4475427567958832,0.4470360279083252,0.4463529586791992,0.44418078660964966,0.44598084688186646,0.4470869302749634,0.44586509466171265,0.44471919536590576,0.44548916816711426,0.44639676809310913,0.4482414722442627,0.4498522877693176,0.4503767490386963,0.4558698236942291,0.45380690693855286,0.45383551716804504,0.4525814950466156,0.4536797106266022,0.45071926712989807,0.45188942551612854,0.4485383629798889,0.44962143898010254,0.4488275945186615,0.44917330145835876,0.45104900002479553,0.45158398151397705],\"type\":\"candlestick\",\"x\":[\"2021-08-22T15:45:00+01:00\",\"2021-08-22T16:00:00+01:00\",\"2021-08-22T16:15:00+01:00\",\"2021-08-22T16:30:00+01:00\",\"2021-08-22T16:45:00+01:00\",\"2021-08-22T17:00:00+01:00\",\"2021-08-22T17:15:00+01:00\",\"2021-08-22T17:30:00+01:00\",\"2021-08-22T17:45:00+01:00\",\"2021-08-22T18:00:00+01:00\",\"2021-08-22T18:15:00+01:00\",\"2021-08-22T18:30:00+01:00\",\"2021-08-22T18:45:00+01:00\",\"2021-08-22T19:00:00+01:00\",\"2021-08-22T19:15:00+01:00\",\"2021-08-22T19:30:00+01:00\",\"2021-08-22T19:45:00+01:00\",\"2021-08-22T20:00:00+01:00\",\"2021-08-22T20:15:00+01:00\",\"2021-08-22T20:30:00+01:00\",\"2021-08-22T20:45:00+01:00\",\"2021-08-22T21:00:00+01:00\",\"2021-08-22T21:15:00+01:00\",\"2021-08-22T21:30:00+01:00\",\"2021-08-22T21:45:00+01:00\",\"2021-08-22T22:00:00+01:00\",\"2021-08-22T22:15:00+01:00\",\"2021-08-22T22:30:00+01:00\",\"2021-08-22T22:45:00+01:00\",\"2021-08-22T23:00:00+01:00\",\"2021-08-22T23:15:00+01:00\",\"2021-08-22T23:30:00+01:00\",\"2021-08-22T23:45:00+01:00\",\"2021-08-23T00:00:00+01:00\",\"2021-08-23T00:15:00+01:00\",\"2021-08-23T00:30:00+01:00\",\"2021-08-23T00:45:00+01:00\",\"2021-08-23T01:00:00+01:00\",\"2021-08-23T01:15:00+01:00\",\"2021-08-23T01:30:00+01:00\",\"2021-08-23T01:45:00+01:00\",\"2021-08-23T02:00:00+01:00\",\"2021-08-23T02:15:00+01:00\",\"2021-08-23T02:30:00+01:00\",\"2021-08-23T02:45:00+01:00\",\"2021-08-23T03:00:00+01:00\",\"2021-08-23T03:15:00+01:00\",\"2021-08-23T03:30:00+01:00\",\"2021-08-23T03:45:00+01:00\",\"2021-08-23T04:00:00+01:00\",\"2021-08-23T04:15:00+01:00\",\"2021-08-23T04:30:00+01:00\",\"2021-08-23T04:45:00+01:00\",\"2021-08-23T05:00:00+01:00\",\"2021-08-23T05:15:00+01:00\",\"2021-08-23T05:30:00+01:00\",\"2021-08-23T05:45:00+01:00\",\"2021-08-23T06:00:00+01:00\",\"2021-08-23T06:15:00+01:00\",\"2021-08-23T06:30:00+01:00\",\"2021-08-23T06:45:00+01:00\",\"2021-08-23T07:00:00+01:00\",\"2021-08-23T07:15:00+01:00\",\"2021-08-23T07:30:00+01:00\",\"2021-08-23T07:45:00+01:00\",\"2021-08-23T08:00:00+01:00\",\"2021-08-23T08:15:00+01:00\",\"2021-08-23T08:30:00+01:00\",\"2021-08-23T08:45:00+01:00\",\"2021-08-23T09:00:00+01:00\",\"2021-08-23T09:15:00+01:00\",\"2021-08-23T09:30:00+01:00\",\"2021-08-23T09:45:00+01:00\",\"2021-08-23T10:00:00+01:00\",\"2021-08-23T10:15:00+01:00\",\"2021-08-23T10:30:00+01:00\",\"2021-08-23T10:45:00+01:00\",\"2021-08-23T11:00:00+01:00\",\"2021-08-23T11:15:00+01:00\",\"2021-08-23T11:30:00+01:00\",\"2021-08-23T11:45:00+01:00\",\"2021-08-23T12:00:00+01:00\",\"2021-08-23T12:15:00+01:00\",\"2021-08-23T12:30:00+01:00\",\"2021-08-23T12:45:00+01:00\",\"2021-08-23T12:52:36+01:00\"]}],                        {\"template\":{\"data\":{\"bar\":[{\"error_x\":{\"color\":\"#2a3f5f\"},\"error_y\":{\"color\":\"#2a3f5f\"},\"marker\":{\"line\":{\"color\":\"#E5ECF6\",\"width\":0.5},\"pattern\":{\"fillmode\":\"overlay\",\"size\":10,\"solidity\":0.2}},\"type\":\"bar\"}],\"barpolar\":[{\"marker\":{\"line\":{\"color\":\"#E5ECF6\",\"width\":0.5},\"pattern\":{\"fillmode\":\"overlay\",\"size\":10,\"solidity\":0.2}},\"type\":\"barpolar\"}],\"carpet\":[{\"aaxis\":{\"endlinecolor\":\"#2a3f5f\",\"gridcolor\":\"white\",\"linecolor\":\"white\",\"minorgridcolor\":\"white\",\"startlinecolor\":\"#2a3f5f\"},\"baxis\":{\"endlinecolor\":\"#2a3f5f\",\"gridcolor\":\"white\",\"linecolor\":\"white\",\"minorgridcolor\":\"white\",\"startlinecolor\":\"#2a3f5f\"},\"type\":\"carpet\"}],\"choropleth\":[{\"colorbar\":{\"outlinewidth\":0,\"ticks\":\"\"},\"type\":\"choropleth\"}],\"contour\":[{\"colorbar\":{\"outlinewidth\":0,\"ticks\":\"\"},\"colorscale\":[[0.0,\"#0d0887\"],[0.1111111111111111,\"#46039f\"],[0.2222222222222222,\"#7201a8\"],[0.3333333333333333,\"#9c179e\"],[0.4444444444444444,\"#bd3786\"],[0.5555555555555556,\"#d8576b\"],[0.6666666666666666,\"#ed7953\"],[0.7777777777777778,\"#fb9f3a\"],[0.8888888888888888,\"#fdca26\"],[1.0,\"#f0f921\"]],\"type\":\"contour\"}],\"contourcarpet\":[{\"colorbar\":{\"outlinewidth\":0,\"ticks\":\"\"},\"type\":\"contourcarpet\"}],\"heatmap\":[{\"colorbar\":{\"outlinewidth\":0,\"ticks\":\"\"},\"colorscale\":[[0.0,\"#0d0887\"],[0.1111111111111111,\"#46039f\"],[0.2222222222222222,\"#7201a8\"],[0.3333333333333333,\"#9c179e\"],[0.4444444444444444,\"#bd3786\"],[0.5555555555555556,\"#d8576b\"],[0.6666666666666666,\"#ed7953\"],[0.7777777777777778,\"#fb9f3a\"],[0.8888888888888888,\"#fdca26\"],[1.0,\"#f0f921\"]],\"type\":\"heatmap\"}],\"heatmapgl\":[{\"colorbar\":{\"outlinewidth\":0,\"ticks\":\"\"},\"colorscale\":[[0.0,\"#0d0887\"],[0.1111111111111111,\"#46039f\"],[0.2222222222222222,\"#7201a8\"],[0.3333333333333333,\"#9c179e\"],[0.4444444444444444,\"#bd3786\"],[0.5555555555555556,\"#d8576b\"],[0.6666666666666666,\"#ed7953\"],[0.7777777777777778,\"#fb9f3a\"],[0.8888888888888888,\"#fdca26\"],[1.0,\"#f0f921\"]],\"type\":\"heatmapgl\"}],\"histogram\":[{\"marker\":{\"pattern\":{\"fillmode\":\"overlay\",\"size\":10,\"solidity\":0.2}},\"type\":\"histogram\"}],\"histogram2d\":[{\"colorbar\":{\"outlinewidth\":0,\"ticks\":\"\"},\"colorscale\":[[0.0,\"#0d0887\"],[0.1111111111111111,\"#46039f\"],[0.2222222222222222,\"#7201a8\"],[0.3333333333333333,\"#9c179e\"],[0.4444444444444444,\"#bd3786\"],[0.5555555555555556,\"#d8576b\"],[0.6666666666666666,\"#ed7953\"],[0.7777777777777778,\"#fb9f3a\"],[0.8888888888888888,\"#fdca26\"],[1.0,\"#f0f921\"]],\"type\":\"histogram2d\"}],\"histogram2dcontour\":[{\"colorbar\":{\"outlinewidth\":0,\"ticks\":\"\"},\"colorscale\":[[0.0,\"#0d0887\"],[0.1111111111111111,\"#46039f\"],[0.2222222222222222,\"#7201a8\"],[0.3333333333333333,\"#9c179e\"],[0.4444444444444444,\"#bd3786\"],[0.5555555555555556,\"#d8576b\"],[0.6666666666666666,\"#ed7953\"],[0.7777777777777778,\"#fb9f3a\"],[0.8888888888888888,\"#fdca26\"],[1.0,\"#f0f921\"]],\"type\":\"histogram2dcontour\"}],\"mesh3d\":[{\"colorbar\":{\"outlinewidth\":0,\"ticks\":\"\"},\"type\":\"mesh3d\"}],\"parcoords\":[{\"line\":{\"colorbar\":{\"outlinewidth\":0,\"ticks\":\"\"}},\"type\":\"parcoords\"}],\"pie\":[{\"automargin\":true,\"type\":\"pie\"}],\"scatter\":[{\"marker\":{\"colorbar\":{\"outlinewidth\":0,\"ticks\":\"\"}},\"type\":\"scatter\"}],\"scatter3d\":[{\"line\":{\"colorbar\":{\"outlinewidth\":0,\"ticks\":\"\"}},\"marker\":{\"colorbar\":{\"outlinewidth\":0,\"ticks\":\"\"}},\"type\":\"scatter3d\"}],\"scattercarpet\":[{\"marker\":{\"colorbar\":{\"outlinewidth\":0,\"ticks\":\"\"}},\"type\":\"scattercarpet\"}],\"scattergeo\":[{\"marker\":{\"colorbar\":{\"outlinewidth\":0,\"ticks\":\"\"}},\"type\":\"scattergeo\"}],\"scattergl\":[{\"marker\":{\"colorbar\":{\"outlinewidth\":0,\"ticks\":\"\"}},\"type\":\"scattergl\"}],\"scattermapbox\":[{\"marker\":{\"colorbar\":{\"outlinewidth\":0,\"ticks\":\"\"}},\"type\":\"scattermapbox\"}],\"scatterpolar\":[{\"marker\":{\"colorbar\":{\"outlinewidth\":0,\"ticks\":\"\"}},\"type\":\"scatterpolar\"}],\"scatterpolargl\":[{\"marker\":{\"colorbar\":{\"outlinewidth\":0,\"ticks\":\"\"}},\"type\":\"scatterpolargl\"}],\"scatterternary\":[{\"marker\":{\"colorbar\":{\"outlinewidth\":0,\"ticks\":\"\"}},\"type\":\"scatterternary\"}],\"surface\":[{\"colorbar\":{\"outlinewidth\":0,\"ticks\":\"\"},\"colorscale\":[[0.0,\"#0d0887\"],[0.1111111111111111,\"#46039f\"],[0.2222222222222222,\"#7201a8\"],[0.3333333333333333,\"#9c179e\"],[0.4444444444444444,\"#bd3786\"],[0.5555555555555556,\"#d8576b\"],[0.6666666666666666,\"#ed7953\"],[0.7777777777777778,\"#fb9f3a\"],[0.8888888888888888,\"#fdca26\"],[1.0,\"#f0f921\"]],\"type\":\"surface\"}],\"table\":[{\"cells\":{\"fill\":{\"color\":\"#EBF0F8\"},\"line\":{\"color\":\"white\"}},\"header\":{\"fill\":{\"color\":\"#C8D4E3\"},\"line\":{\"color\":\"white\"}},\"type\":\"table\"}]},\"layout\":{\"annotationdefaults\":{\"arrowcolor\":\"#2a3f5f\",\"arrowhead\":0,\"arrowwidth\":1},\"autotypenumbers\":\"strict\",\"coloraxis\":{\"colorbar\":{\"outlinewidth\":0,\"ticks\":\"\"}},\"colorscale\":{\"diverging\":[[0,\"#8e0152\"],[0.1,\"#c51b7d\"],[0.2,\"#de77ae\"],[0.3,\"#f1b6da\"],[0.4,\"#fde0ef\"],[0.5,\"#f7f7f7\"],[0.6,\"#e6f5d0\"],[0.7,\"#b8e186\"],[0.8,\"#7fbc41\"],[0.9,\"#4d9221\"],[1,\"#276419\"]],\"sequential\":[[0.0,\"#0d0887\"],[0.1111111111111111,\"#46039f\"],[0.2222222222222222,\"#7201a8\"],[0.3333333333333333,\"#9c179e\"],[0.4444444444444444,\"#bd3786\"],[0.5555555555555556,\"#d8576b\"],[0.6666666666666666,\"#ed7953\"],[0.7777777777777778,\"#fb9f3a\"],[0.8888888888888888,\"#fdca26\"],[1.0,\"#f0f921\"]],\"sequentialminus\":[[0.0,\"#0d0887\"],[0.1111111111111111,\"#46039f\"],[0.2222222222222222,\"#7201a8\"],[0.3333333333333333,\"#9c179e\"],[0.4444444444444444,\"#bd3786\"],[0.5555555555555556,\"#d8576b\"],[0.6666666666666666,\"#ed7953\"],[0.7777777777777778,\"#fb9f3a\"],[0.8888888888888888,\"#fdca26\"],[1.0,\"#f0f921\"]]},\"colorway\":[\"#636efa\",\"#EF553B\",\"#00cc96\",\"#ab63fa\",\"#FFA15A\",\"#19d3f3\",\"#FF6692\",\"#B6E880\",\"#FF97FF\",\"#FECB52\"],\"font\":{\"color\":\"#2a3f5f\"},\"geo\":{\"bgcolor\":\"white\",\"lakecolor\":\"white\",\"landcolor\":\"#E5ECF6\",\"showlakes\":true,\"showland\":true,\"subunitcolor\":\"white\"},\"hoverlabel\":{\"align\":\"left\"},\"hovermode\":\"closest\",\"mapbox\":{\"style\":\"light\"},\"paper_bgcolor\":\"white\",\"plot_bgcolor\":\"#E5ECF6\",\"polar\":{\"angularaxis\":{\"gridcolor\":\"white\",\"linecolor\":\"white\",\"ticks\":\"\"},\"bgcolor\":\"#E5ECF6\",\"radialaxis\":{\"gridcolor\":\"white\",\"linecolor\":\"white\",\"ticks\":\"\"}},\"scene\":{\"xaxis\":{\"backgroundcolor\":\"#E5ECF6\",\"gridcolor\":\"white\",\"gridwidth\":2,\"linecolor\":\"white\",\"showbackground\":true,\"ticks\":\"\",\"zerolinecolor\":\"white\"},\"yaxis\":{\"backgroundcolor\":\"#E5ECF6\",\"gridcolor\":\"white\",\"gridwidth\":2,\"linecolor\":\"white\",\"showbackground\":true,\"ticks\":\"\",\"zerolinecolor\":\"white\"},\"zaxis\":{\"backgroundcolor\":\"#E5ECF6\",\"gridcolor\":\"white\",\"gridwidth\":2,\"linecolor\":\"white\",\"showbackground\":true,\"ticks\":\"\",\"zerolinecolor\":\"white\"}},\"shapedefaults\":{\"line\":{\"color\":\"#2a3f5f\"}},\"ternary\":{\"aaxis\":{\"gridcolor\":\"white\",\"linecolor\":\"white\",\"ticks\":\"\"},\"baxis\":{\"gridcolor\":\"white\",\"linecolor\":\"white\",\"ticks\":\"\"},\"bgcolor\":\"#E5ECF6\",\"caxis\":{\"gridcolor\":\"white\",\"linecolor\":\"white\",\"ticks\":\"\"}},\"title\":{\"x\":0.05},\"xaxis\":{\"automargin\":true,\"gridcolor\":\"white\",\"linecolor\":\"white\",\"ticks\":\"\",\"title\":{\"standoff\":15},\"zerolinecolor\":\"white\",\"zerolinewidth\":2},\"yaxis\":{\"automargin\":true,\"gridcolor\":\"white\",\"linecolor\":\"white\",\"ticks\":\"\",\"title\":{\"standoff\":15},\"zerolinecolor\":\"white\",\"zerolinewidth\":2}}},\"title\":{\"text\":\"Bitcoin live share price evolution\"},\"xaxis\":{\"rangeselector\":{\"buttons\":[{\"count\":15,\"label\":\"15m\",\"step\":\"minute\",\"stepmode\":\"backward\"},{\"count\":45,\"label\":\"45m\",\"step\":\"minute\",\"stepmode\":\"backward\"},{\"count\":1,\"label\":\"HTD\",\"step\":\"hour\",\"stepmode\":\"todate\"},{\"count\":6,\"label\":\"6h\",\"step\":\"hour\",\"stepmode\":\"backward\"},{\"step\":\"all\"}]},\"rangeslider\":{\"visible\":true}},\"yaxis\":{\"title\":{\"text\":\"Bitcoin Price (kUS Dollars)\"}}},                        {\"responsive\": true}                    ).then(function(){\n",
       "                            \n",
       "var gd = document.getElementById('c3f423a8-9b42-4e2b-92ec-247933a5367e');\n",
       "var x = new MutationObserver(function (mutations, observer) {{\n",
       "        var display = window.getComputedStyle(gd).display;\n",
       "        if (!display || display === 'none') {{\n",
       "            console.log([gd, 'removed!']);\n",
       "            Plotly.purge(gd);\n",
       "            observer.disconnect();\n",
       "        }}\n",
       "}});\n",
       "\n",
       "// Listen for the removal of the full notebook cells\n",
       "var notebookContainer = gd.closest('#notebook-container');\n",
       "if (notebookContainer) {{\n",
       "    x.observe(notebookContainer, {childList: true});\n",
       "}}\n",
       "\n",
       "// Listen for the clearing of the current output cell\n",
       "var outputEl = gd.closest('.output');\n",
       "if (outputEl) {{\n",
       "    x.observe(outputEl, {childList: true});\n",
       "}}\n",
       "\n",
       "                        })                };                });            </script>        </div>"
      ]
     },
     "metadata": {}
    }
   ],
   "metadata": {}
  },
  {
   "cell_type": "code",
   "execution_count": 4,
   "source": [
    "yf.download()"
   ],
   "outputs": [
    {
     "output_type": "error",
     "ename": "TypeError",
     "evalue": "download() missing 1 required positional argument: 'tickers'",
     "traceback": [
      "\u001b[1;31m---------------------------------------------------------------------------\u001b[0m",
      "\u001b[1;31mTypeError\u001b[0m                                 Traceback (most recent call last)",
      "\u001b[1;32m<ipython-input-4-62fa2d827df2>\u001b[0m in \u001b[0;36m<module>\u001b[1;34m\u001b[0m\n\u001b[1;32m----> 1\u001b[1;33m \u001b[0myf\u001b[0m\u001b[1;33m.\u001b[0m\u001b[0mdownload\u001b[0m\u001b[1;33m(\u001b[0m\u001b[1;33m)\u001b[0m\u001b[1;33m\u001b[0m\u001b[1;33m\u001b[0m\u001b[0m\n\u001b[0m",
      "\u001b[1;31mTypeError\u001b[0m: download() missing 1 required positional argument: 'tickers'"
     ]
    }
   ],
   "metadata": {}
  },
  {
   "cell_type": "code",
   "execution_count": null,
   "source": [],
   "outputs": [],
   "metadata": {}
  },
  {
   "cell_type": "code",
   "execution_count": null,
   "source": [],
   "outputs": [],
   "metadata": {}
  },
  {
   "cell_type": "code",
   "execution_count": null,
   "source": [],
   "outputs": [],
   "metadata": {}
  },
  {
   "cell_type": "code",
   "execution_count": null,
   "source": [],
   "outputs": [],
   "metadata": {}
  },
  {
   "cell_type": "code",
   "execution_count": null,
   "source": [],
   "outputs": [],
   "metadata": {}
  },
  {
   "cell_type": "code",
   "execution_count": null,
   "source": [],
   "outputs": [],
   "metadata": {}
  },
  {
   "cell_type": "code",
   "execution_count": null,
   "source": [],
   "outputs": [],
   "metadata": {}
  }
 ],
 "metadata": {
  "kernelspec": {
   "name": "python3",
   "display_name": "Python 3.8.3 64-bit ('base': conda)"
  },
  "language_info": {
   "codemirror_mode": {
    "name": "ipython",
    "version": 3
   },
   "file_extension": ".py",
   "mimetype": "text/x-python",
   "name": "python",
   "nbconvert_exporter": "python",
   "pygments_lexer": "ipython3",
   "version": "3.8.3"
  },
  "interpreter": {
   "hash": "03b1e91fe694e284a1e062ef0e7c4f807495374d1988da701e5dca40ef0d0d84"
  }
 },
 "nbformat": 4,
 "nbformat_minor": 4
}